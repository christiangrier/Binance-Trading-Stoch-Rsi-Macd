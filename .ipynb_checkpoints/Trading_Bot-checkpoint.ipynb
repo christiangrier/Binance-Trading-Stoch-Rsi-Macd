{
 "cells": [
  {
   "cell_type": "code",
   "execution_count": 120,
   "id": "incorporated-garlic",
   "metadata": {},
   "outputs": [],
   "source": [
    "%run ./BinanceKeys.ipynb"
   ]
  },
  {
   "cell_type": "code",
   "execution_count": 121,
   "id": "starting-finnish",
   "metadata": {},
   "outputs": [],
   "source": [
    "from binance import Client"
   ]
  },
  {
   "cell_type": "code",
   "execution_count": 122,
   "id": "cleared-checklist",
   "metadata": {},
   "outputs": [],
   "source": [
    "import pandas as pd\n",
    "import numpy as np\n",
    "import ta\n",
    "import time"
   ]
  },
  {
   "cell_type": "code",
   "execution_count": 123,
   "id": "inclusive-medication",
   "metadata": {},
   "outputs": [],
   "source": [
    "client = Client(api_key, api_secret)"
   ]
  },
  {
   "cell_type": "code",
   "execution_count": 142,
   "id": "fiscal-range",
   "metadata": {},
   "outputs": [],
   "source": [
    "def getminutedata(symbol, interval, lookback):\n",
    "    frame = pd.DataFrame(client.get_historical_klines(symbol, interval, lookback + ' min ago UTC'))\n",
    "    frame = frame.iloc[:,:6]\n",
    "    frame.columns = ['Time','Open','High','Low','Close','Volume']\n",
    "    frame = frame.set_index('Time')\n",
    "    frame.index = pd.to_datetime(frame.index, unit='ms')\n",
    "    frame = frame.astype(float)\n",
    "    return frame"
   ]
  },
  {
   "cell_type": "code",
   "execution_count": 143,
   "id": "ceramic-seventh",
   "metadata": {},
   "outputs": [],
   "source": [
    "def applytechnicals(df):\n",
    "    df['%K'] = ta.momentum.stoch(df.High,df.Low,df.Close, window=14,\n",
    "                                smooth_window=3)\n",
    "    df['%D'] = df['%K'].rolling(3).mean()\n",
    "    df['rsi'] = ta.momentum.rsi(df.Close, window=14)\n",
    "    df['macd'] = ta.trend.macd_diff(df.Close)\n",
    "    df.dropna(inplace=True)"
   ]
  },
  {
   "cell_type": "code",
   "execution_count": 144,
   "id": "amended-factor",
   "metadata": {},
   "outputs": [],
   "source": [
    "class Signals:\n",
    "    \n",
    "    def __init__(self,df, lags):\n",
    "        self.df = df\n",
    "        self.lags = lags\n",
    "        \n",
    "    def gettrigger(self):\n",
    "        dfx = pd.DataFrame()\n",
    "        for i in range(self.lags + 1):\n",
    "            mask = (self.df['%K'].shift(i) < 20) & (self.df['%D'].shift(i) < 20)\n",
    "            dfx = dfx.append(mask, ignore_index=True)\n",
    "        return dfx.sum(axis=0)\n",
    "    \n",
    "    def decide(self):\n",
    "        self.df['trigger'] = np.where(self.gettrigger(), 1, 0)\n",
    "        self.df['Buy'] = np.where((self.df.trigger) & \n",
    "                                  (self.df['%K'].between(20,80)) & \n",
    "                                  (self.df['%D'].between(20,80)) & \n",
    "                                  (self.df.rsi > 50) & (self.df.macd > 0), 1, 0)\n",
    "        "
   ]
  },
  {
   "cell_type": "code",
   "execution_count": 145,
   "id": "martial-possession",
   "metadata": {},
   "outputs": [],
   "source": [
    "def strategy(pair, qty, open_position=False):\n",
    "    df = getminutedata(pair, '15m', '600')\n",
    "    applytechnicals(df)\n",
    "    inst = Signals(df, 3)\n",
    "    inst.decide()\n",
    "    print(f'current Close is '+str(df.Close.iloc[-1]))\n",
    "    if df.Buy.iloc[-1]:\n",
    "        order = client.create_order(symbol=pair,\n",
    "                                   side='BUY',\n",
    "                                   type='MARKET',\n",
    "                                   quantity=qty)\n",
    "        print(order)\n",
    "        buyprice = float(order['fills'][0]['price'])\n",
    "        open_position = True\n",
    "    while open_position:\n",
    "        time.sleep(0.5)\n",
    "        df = getminutedata(pair, '15m', '2')\n",
    "        print(f'current Close'+ str(df.Close.iloc[-1]))\n",
    "        print(f'current Target'+ str(buyprice * 1.007))\n",
    "        print(f'current Stop is'+ str(buyprice * 0.994))\n",
    "        if df.Close[-1] >= buyprice * 0.995 or df.Close[-1] >= 1.005 * buyprice:\n",
    "            order = client.create_order(symbol=pair,\n",
    "                                        side='SELL',\n",
    "                                        type='MARKET',\n",
    "                                        quantity=qty)\n",
    "            print(order)\n",
    "            break\n",
    "            "
   ]
  },
  {
   "cell_type": "code",
   "execution_count": 146,
   "id": "outer-trial",
   "metadata": {},
   "outputs": [
    {
     "name": "stdout",
     "output_type": "stream",
     "text": [
      "current Close is 2.211\n"
     ]
    }
   ],
   "source": [
    "strategy('BTCUSDT', 7)"
   ]
  }
 ],
 "metadata": {
  "kernelspec": {
   "display_name": "Python 3",
   "language": "python",
   "name": "python3"
  },
  "language_info": {
   "codemirror_mode": {
    "name": "ipython",
    "version": 3
   },
   "file_extension": ".py",
   "mimetype": "text/x-python",
   "name": "python",
   "nbconvert_exporter": "python",
   "pygments_lexer": "ipython3",
   "version": "3.8.5"
  }
 },
 "nbformat": 4,
 "nbformat_minor": 5
}
