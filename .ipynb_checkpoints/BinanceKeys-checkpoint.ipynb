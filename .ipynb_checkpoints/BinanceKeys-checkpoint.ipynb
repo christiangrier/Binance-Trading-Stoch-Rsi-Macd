{
 "cells": [
  {
   "cell_type": "code",
   "execution_count": 2,
   "id": "champion-tender",
   "metadata": {},
   "outputs": [],
   "source": [
    "api_key = ('8HEBQ2V9FM6UlMybtFeTegbPQ5V50sz8bhdswAe3lY8faijarBRyv4T6RGeyqk5F')"
   ]
  },
  {
   "cell_type": "code",
   "execution_count": 3,
   "id": "median-technician",
   "metadata": {},
   "outputs": [],
   "source": [
    "api_secret = ('AjTKR07uia4DoNtYDlfLgNwS71BYBDmCg57ddIaiyaJJdjfp97x3fy1sGMkhniPo')"
   ]
  },
  {
   "cell_type": "code",
   "execution_count": null,
   "id": "essential-packaging",
   "metadata": {},
   "outputs": [],
   "source": []
  }
 ],
 "metadata": {
  "kernelspec": {
   "display_name": "Python 3",
   "language": "python",
   "name": "python3"
  },
  "language_info": {
   "codemirror_mode": {
    "name": "ipython",
    "version": 3
   },
   "file_extension": ".py",
   "mimetype": "text/x-python",
   "name": "python",
   "nbconvert_exporter": "python",
   "pygments_lexer": "ipython3",
   "version": "3.8.5"
  }
 },
 "nbformat": 4,
 "nbformat_minor": 5
}
